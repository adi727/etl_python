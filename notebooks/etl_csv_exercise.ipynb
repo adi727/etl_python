{
 "cells": [
  {
   "cell_type": "markdown",
   "metadata": {},
   "source": [
    "# Extracting data from a CSV file (local and online)\n",
    "\n",
    "The data comes from the [John's Hopkins - Whiting School of Engineering COVID-19 GitHub repo](https://github.com/CSSEGISandData/COVID-19). \n",
    "\n",
    "Daily Reports are push to the repo with the most up-to-date numbers for:\n",
    "- Confirmed Cases of COVID-19\n",
    "- COVID-19 Deaths\n",
    "- Number of Recovered Persons\n",
    "- etc\n",
    "\n",
    "We will use the most recent COVID-19 Daily Reports csv file as of this example. \n",
    "\n",
    "We will be importing the data using the pandas [read_csv](https://pandas.pydata.org/pandas-docs/stable/reference/api/pandas.read_csv.html) method to put the data in a pandas DataFrame."
   ]
  },
  {
   "cell_type": "markdown",
   "metadata": {},
   "source": [
    "## Example #1: CSV file saved in your project folder"
   ]
  },
  {
   "cell_type": "code",
   "execution_count": 1,
   "metadata": {},
   "outputs": [],
   "source": [
    "#import our dependencies for this project\n",
    "import pandas as pd\n",
    "import datetime"
   ]
  },
  {
   "cell_type": "code",
   "execution_count": 2,
   "metadata": {},
   "outputs": [],
   "source": [
    "#Read the CSV file from our data folder into a dataframe\n",
    "covid_daily_us_local = pd.read_csv('../data/05-28-2020.csv')"
   ]
  },
  {
   "cell_type": "code",
   "execution_count": 3,
   "metadata": {
    "scrolled": true
   },
   "outputs": [
    {
     "output_type": "execute_result",
     "data": {
      "text/plain": "   Province_State Country_Region          Last_Update      Lat     Long_  \\\n0         Alabama             US  2020-05-29 02:32:58  32.3182  -86.9023   \n1          Alaska             US  2020-05-29 02:32:58  61.3707 -152.4044   \n2  American Samoa             US  2020-05-29 02:32:58 -14.2710 -170.1320   \n3         Arizona             US  2020-05-29 02:32:58  33.7298 -111.4312   \n4        Arkansas             US  2020-05-29 02:32:58  34.9697  -92.3731   \n\n   Confirmed  Deaths  Recovered   Active  FIPS  Incident_Rate  People_Tested  \\\n0      16530     591     9355.0   6584.0     1     337.127806       200481.0   \n1        424      10      366.0     48.0     2      57.959524        47970.0   \n2          0       0        NaN      0.0    60       0.000000          174.0   \n3      17877     860     4452.0  12565.0     4     245.606472       202914.0   \n4       6538     125     4583.0   1830.0     5     216.647602       118902.0   \n\n   People_Hospitalized  Mortality_Rate       UID ISO3  Testing_Rate  \\\n0               1765.0        3.575318  84000001  USA   4088.791265   \n1                  NaN        2.358491  84000002  USA   6557.354640   \n2                  NaN             NaN        16  ASM    312.719038   \n3               2848.0        4.810651  84000004  USA   2787.771526   \n4                640.0        1.911900  84000005  USA   3940.017311   \n\n   Hospitalization_Rate  \n0             10.677556  \n1                   NaN  \n2                   NaN  \n3             15.931085  \n4              9.788926  ",
      "text/html": "<div>\n<style scoped>\n    .dataframe tbody tr th:only-of-type {\n        vertical-align: middle;\n    }\n\n    .dataframe tbody tr th {\n        vertical-align: top;\n    }\n\n    .dataframe thead th {\n        text-align: right;\n    }\n</style>\n<table border=\"1\" class=\"dataframe\">\n  <thead>\n    <tr style=\"text-align: right;\">\n      <th></th>\n      <th>Province_State</th>\n      <th>Country_Region</th>\n      <th>Last_Update</th>\n      <th>Lat</th>\n      <th>Long_</th>\n      <th>Confirmed</th>\n      <th>Deaths</th>\n      <th>Recovered</th>\n      <th>Active</th>\n      <th>FIPS</th>\n      <th>Incident_Rate</th>\n      <th>People_Tested</th>\n      <th>People_Hospitalized</th>\n      <th>Mortality_Rate</th>\n      <th>UID</th>\n      <th>ISO3</th>\n      <th>Testing_Rate</th>\n      <th>Hospitalization_Rate</th>\n    </tr>\n  </thead>\n  <tbody>\n    <tr>\n      <th>0</th>\n      <td>Alabama</td>\n      <td>US</td>\n      <td>2020-05-29 02:32:58</td>\n      <td>32.3182</td>\n      <td>-86.9023</td>\n      <td>16530</td>\n      <td>591</td>\n      <td>9355.0</td>\n      <td>6584.0</td>\n      <td>1</td>\n      <td>337.127806</td>\n      <td>200481.0</td>\n      <td>1765.0</td>\n      <td>3.575318</td>\n      <td>84000001</td>\n      <td>USA</td>\n      <td>4088.791265</td>\n      <td>10.677556</td>\n    </tr>\n    <tr>\n      <th>1</th>\n      <td>Alaska</td>\n      <td>US</td>\n      <td>2020-05-29 02:32:58</td>\n      <td>61.3707</td>\n      <td>-152.4044</td>\n      <td>424</td>\n      <td>10</td>\n      <td>366.0</td>\n      <td>48.0</td>\n      <td>2</td>\n      <td>57.959524</td>\n      <td>47970.0</td>\n      <td>NaN</td>\n      <td>2.358491</td>\n      <td>84000002</td>\n      <td>USA</td>\n      <td>6557.354640</td>\n      <td>NaN</td>\n    </tr>\n    <tr>\n      <th>2</th>\n      <td>American Samoa</td>\n      <td>US</td>\n      <td>2020-05-29 02:32:58</td>\n      <td>-14.2710</td>\n      <td>-170.1320</td>\n      <td>0</td>\n      <td>0</td>\n      <td>NaN</td>\n      <td>0.0</td>\n      <td>60</td>\n      <td>0.000000</td>\n      <td>174.0</td>\n      <td>NaN</td>\n      <td>NaN</td>\n      <td>16</td>\n      <td>ASM</td>\n      <td>312.719038</td>\n      <td>NaN</td>\n    </tr>\n    <tr>\n      <th>3</th>\n      <td>Arizona</td>\n      <td>US</td>\n      <td>2020-05-29 02:32:58</td>\n      <td>33.7298</td>\n      <td>-111.4312</td>\n      <td>17877</td>\n      <td>860</td>\n      <td>4452.0</td>\n      <td>12565.0</td>\n      <td>4</td>\n      <td>245.606472</td>\n      <td>202914.0</td>\n      <td>2848.0</td>\n      <td>4.810651</td>\n      <td>84000004</td>\n      <td>USA</td>\n      <td>2787.771526</td>\n      <td>15.931085</td>\n    </tr>\n    <tr>\n      <th>4</th>\n      <td>Arkansas</td>\n      <td>US</td>\n      <td>2020-05-29 02:32:58</td>\n      <td>34.9697</td>\n      <td>-92.3731</td>\n      <td>6538</td>\n      <td>125</td>\n      <td>4583.0</td>\n      <td>1830.0</td>\n      <td>5</td>\n      <td>216.647602</td>\n      <td>118902.0</td>\n      <td>640.0</td>\n      <td>1.911900</td>\n      <td>84000005</td>\n      <td>USA</td>\n      <td>3940.017311</td>\n      <td>9.788926</td>\n    </tr>\n  </tbody>\n</table>\n</div>"
     },
     "metadata": {},
     "execution_count": 3
    }
   ],
   "source": [
    "#Return first five rows of data\n",
    "covid_daily_us_local.head()"
   ]
  },
  {
   "cell_type": "markdown",
   "metadata": {},
   "source": [
    "## Example #2: CSV file from the web\n",
    "The same file we read into pandas from our local machine can be accessed from the web by using the URL directing us to the data. For GitHub, we will need to get the RAW URL in order to pull in our data into a dataframe.\n",
    "\n",
    "### Getting Raw link for CSV data\n",
    "1. Go to the [csse_covid_19_daily_reports_us folder](https://github.com/CSSEGISandData/COVID-19/tree/master/csse_covid_19_data/csse_covid_19_daily_reports_us)\n",
    "2. Click on the the CSV file you'd like to get data from (we will use 05-28-2020.csv)\n",
    "3. Once the page loads, you will see a Raw button. Click on that and it will take you to a page containing the raw form of the CSV data.\n",
    "4. Copy the url to use in the read_csv method"
   ]
  },
  {
   "cell_type": "code",
   "execution_count": 4,
   "metadata": {},
   "outputs": [],
   "source": [
    "#Lets save the url in a variable called url and pass it as our parameter\n",
    "url = 'https://raw.githubusercontent.com/CSSEGISandData/COVID-19/master/csse_covid_19_data/csse_covid_19_daily_reports_us/05-28-2020.csv'\n",
    "\n",
    "#Read CSV from URL into a dataframe\n",
    "covid_daily_us_url = pd.read_csv(url)"
   ]
  },
  {
   "cell_type": "code",
   "execution_count": 5,
   "metadata": {
    "scrolled": true
   },
   "outputs": [
    {
     "output_type": "execute_result",
     "data": {
      "text/plain": "   Province_State Country_Region          Last_Update      Lat     Long_  \\\n0         Alabama             US  2020-05-29 02:32:58  32.3182  -86.9023   \n1          Alaska             US  2020-05-29 02:32:58  61.3707 -152.4044   \n2  American Samoa             US  2020-05-29 02:32:58 -14.2710 -170.1320   \n3         Arizona             US  2020-05-29 02:32:58  33.7298 -111.4312   \n4        Arkansas             US  2020-05-29 02:32:58  34.9697  -92.3731   \n\n   Confirmed  Deaths  Recovered   Active  FIPS  Incident_Rate  People_Tested  \\\n0      16530     591     9355.0   6584.0     1     337.127806       200481.0   \n1        424      10      366.0     48.0     2      57.959524        47970.0   \n2          0       0        NaN      0.0    60       0.000000          174.0   \n3      17877     860     4452.0  12565.0     4     245.606472       202914.0   \n4       6538     125     4583.0   1830.0     5     216.647602       118902.0   \n\n   People_Hospitalized  Mortality_Rate       UID ISO3  Testing_Rate  \\\n0               1765.0        3.575318  84000001  USA   4088.791265   \n1                  NaN        2.358491  84000002  USA   6557.354640   \n2                  NaN             NaN        16  ASM    312.719038   \n3               2848.0        4.810651  84000004  USA   2787.771526   \n4                640.0        1.911900  84000005  USA   3940.017311   \n\n   Hospitalization_Rate  \n0             10.677556  \n1                   NaN  \n2                   NaN  \n3             15.931085  \n4              9.788926  ",
      "text/html": "<div>\n<style scoped>\n    .dataframe tbody tr th:only-of-type {\n        vertical-align: middle;\n    }\n\n    .dataframe tbody tr th {\n        vertical-align: top;\n    }\n\n    .dataframe thead th {\n        text-align: right;\n    }\n</style>\n<table border=\"1\" class=\"dataframe\">\n  <thead>\n    <tr style=\"text-align: right;\">\n      <th></th>\n      <th>Province_State</th>\n      <th>Country_Region</th>\n      <th>Last_Update</th>\n      <th>Lat</th>\n      <th>Long_</th>\n      <th>Confirmed</th>\n      <th>Deaths</th>\n      <th>Recovered</th>\n      <th>Active</th>\n      <th>FIPS</th>\n      <th>Incident_Rate</th>\n      <th>People_Tested</th>\n      <th>People_Hospitalized</th>\n      <th>Mortality_Rate</th>\n      <th>UID</th>\n      <th>ISO3</th>\n      <th>Testing_Rate</th>\n      <th>Hospitalization_Rate</th>\n    </tr>\n  </thead>\n  <tbody>\n    <tr>\n      <th>0</th>\n      <td>Alabama</td>\n      <td>US</td>\n      <td>2020-05-29 02:32:58</td>\n      <td>32.3182</td>\n      <td>-86.9023</td>\n      <td>16530</td>\n      <td>591</td>\n      <td>9355.0</td>\n      <td>6584.0</td>\n      <td>1</td>\n      <td>337.127806</td>\n      <td>200481.0</td>\n      <td>1765.0</td>\n      <td>3.575318</td>\n      <td>84000001</td>\n      <td>USA</td>\n      <td>4088.791265</td>\n      <td>10.677556</td>\n    </tr>\n    <tr>\n      <th>1</th>\n      <td>Alaska</td>\n      <td>US</td>\n      <td>2020-05-29 02:32:58</td>\n      <td>61.3707</td>\n      <td>-152.4044</td>\n      <td>424</td>\n      <td>10</td>\n      <td>366.0</td>\n      <td>48.0</td>\n      <td>2</td>\n      <td>57.959524</td>\n      <td>47970.0</td>\n      <td>NaN</td>\n      <td>2.358491</td>\n      <td>84000002</td>\n      <td>USA</td>\n      <td>6557.354640</td>\n      <td>NaN</td>\n    </tr>\n    <tr>\n      <th>2</th>\n      <td>American Samoa</td>\n      <td>US</td>\n      <td>2020-05-29 02:32:58</td>\n      <td>-14.2710</td>\n      <td>-170.1320</td>\n      <td>0</td>\n      <td>0</td>\n      <td>NaN</td>\n      <td>0.0</td>\n      <td>60</td>\n      <td>0.000000</td>\n      <td>174.0</td>\n      <td>NaN</td>\n      <td>NaN</td>\n      <td>16</td>\n      <td>ASM</td>\n      <td>312.719038</td>\n      <td>NaN</td>\n    </tr>\n    <tr>\n      <th>3</th>\n      <td>Arizona</td>\n      <td>US</td>\n      <td>2020-05-29 02:32:58</td>\n      <td>33.7298</td>\n      <td>-111.4312</td>\n      <td>17877</td>\n      <td>860</td>\n      <td>4452.0</td>\n      <td>12565.0</td>\n      <td>4</td>\n      <td>245.606472</td>\n      <td>202914.0</td>\n      <td>2848.0</td>\n      <td>4.810651</td>\n      <td>84000004</td>\n      <td>USA</td>\n      <td>2787.771526</td>\n      <td>15.931085</td>\n    </tr>\n    <tr>\n      <th>4</th>\n      <td>Arkansas</td>\n      <td>US</td>\n      <td>2020-05-29 02:32:58</td>\n      <td>34.9697</td>\n      <td>-92.3731</td>\n      <td>6538</td>\n      <td>125</td>\n      <td>4583.0</td>\n      <td>1830.0</td>\n      <td>5</td>\n      <td>216.647602</td>\n      <td>118902.0</td>\n      <td>640.0</td>\n      <td>1.911900</td>\n      <td>84000005</td>\n      <td>USA</td>\n      <td>3940.017311</td>\n      <td>9.788926</td>\n    </tr>\n  </tbody>\n</table>\n</div>"
     },
     "metadata": {},
     "execution_count": 5
    }
   ],
   "source": [
    "#Return first five rows of data\n",
    "covid_daily_us_url.head()"
   ]
  },
  {
   "cell_type": "markdown",
   "metadata": {},
   "source": [
    "One benefit of using data that is accesible online AND uses a date format is that you can get the most up-to-date version using [Python's built-in `datetime` module] (https://docs.python.org/3/library/datetime.html) and the [string `format`method](https://matthew-brett.github.io/teaching/string_formatting.html)to create a new string with inserted values (in this case, the current date you are pulling the data!)."
   ]
  },
  {
   "cell_type": "code",
   "execution_count": 6,
   "metadata": {},
   "outputs": [
    {
     "output_type": "stream",
     "name": "stdout",
     "text": "05-30-2020\n"
    }
   ],
   "source": [
    "#store today's date in a variable and format the date to match the format for the CSV file\n",
    "todays_date = datetime.date.today().strftime('%m-%d-%Y')\n",
    "print(todays_date)"
   ]
  },
  {
   "cell_type": "code",
   "execution_count": 7,
   "metadata": {},
   "outputs": [],
   "source": [
    "#lets now use the same URL body but replace the MM-DD-YYYY with today's date\n",
    "todays_url = 'https://raw.githubusercontent.com/CSSEGISandData/COVID-19/master/csse_covid_19_data/csse_covid_19_daily_reports_us/{}.csv'.format(todays_date)"
   ]
  },
  {
   "cell_type": "code",
   "execution_count": 8,
   "metadata": {
    "scrolled": true
   },
   "outputs": [
    {
     "output_type": "stream",
     "name": "stdout",
     "text": "https://raw.githubusercontent.com/CSSEGISandData/COVID-19/master/csse_covid_19_data/csse_covid_19_daily_reports_us/05-30-2020.csv\n"
    }
   ],
   "source": [
    "print(todays_url)"
   ]
  }
 ],
 "metadata": {
  "kernelspec": {
   "display_name": "etl_py_env",
   "language": "python",
   "name": "etl_py_env"
  },
  "language_info": {
   "codemirror_mode": {
    "name": "ipython",
    "version": 3
   },
   "file_extension": ".py",
   "mimetype": "text/x-python",
   "name": "python",
   "nbconvert_exporter": "python",
   "pygments_lexer": "ipython3",
   "version": "3.8.3-final"
  }
 },
 "nbformat": 4,
 "nbformat_minor": 4
}