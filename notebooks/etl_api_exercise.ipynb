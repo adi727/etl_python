{
 "cells": [
  {
   "cell_type": "markdown",
   "metadata": {},
   "source": [
    "# Gathering data from an API\n",
    "\n",
    "If you are new to APIs (or would like a refresher), I would recommend this [video] (https://www.youtube.com/watch?v=s7wmiS2mSXY), that way the focus can be on how to utilize APIs to get data.\n",
    "\n",
    "This data comes from the [The COVID Tracking Project](https://covidtracking.com/api) but rather than using the CSV or JSON files, we will use the API.\n",
    "\n",
    "Daily US State Reports are published to the site via API, JSON, and CSV with the most up-to-date numbers for:\n",
    "- Tests\n",
    "- Hospitalized\n",
    "- In ICU\n",
    "- On Ventilator\n",
    "- Outcomes\n",
    "- Total Test Results (Positives + Negative)\n",
    "\n",
    "We will use the most recent COVID-19 Current state data. \n",
    "\n",
    "We will be importing the data using the pandas [read_json](https://pandas.pydata.org/pandas-docs/stable/reference/api/pandas.read_json.html) method to put the data in a pandas DataFrame.\n",
    "\n",
    "In the pandas.read_json documentation, you can note the orientation of the JSON as JSON can be formatted in different ways. In this case, the JSON is formatted with a 'records' orientation. "
   ]
  },
  {
   "cell_type": "code",
   "execution_count": 2,
   "metadata": {},
   "outputs": [],
   "source": [
    "#dependencies\n",
    "import pandas as pd\n",
    "import requests"
   ]
  },
  {
   "cell_type": "code",
   "execution_count": 45,
   "metadata": {},
   "outputs": [
    {
     "name": "stdout",
     "output_type": "stream",
     "text": [
      "https://covidtracking.com/api/v1/states/IL/daily.json\n"
     ]
    }
   ],
   "source": [
    "state = 'IL'\n",
    "\n",
    "url = 'https://covidtracking.com/api/v1/states/{}/daily.json'.format(state)\n",
    "\n",
    "print(url)"
   ]
  },
  {
   "cell_type": "code",
   "execution_count": 47,
   "metadata": {},
   "outputs": [
    {
     "name": "stdout",
     "output_type": "stream",
     "text": [
      "<Response [200]>\n"
     ]
    }
   ],
   "source": [
    "r = requests.get(url)\n",
    "\n",
    "print(r)"
   ]
  },
  {
   "cell_type": "code",
   "execution_count": 43,
   "metadata": {},
   "outputs": [],
   "source": [
    "data = r.json()\n",
    "\n",
    "data"
   ]
  }
 ],
 "metadata": {
  "kernelspec": {
   "display_name": "etl_py_env",
   "language": "python",
   "name": "etl_py_env"
  },
  "language_info": {
   "codemirror_mode": {
    "name": "ipython",
    "version": 3
   },
   "file_extension": ".py",
   "mimetype": "text/x-python",
   "name": "python",
   "nbconvert_exporter": "python",
   "pygments_lexer": "ipython3",
   "version": "3.8.3"
  }
 },
 "nbformat": 4,
 "nbformat_minor": 4
}
